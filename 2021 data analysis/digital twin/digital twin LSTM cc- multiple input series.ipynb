{
 "cells": [
  {
   "cell_type": "code",
   "execution_count": 61,
   "id": "87771a09",
   "metadata": {},
   "outputs": [],
   "source": [
    "import numpy as np\n",
    "import matplotlib.pyplot as plt\n",
    "import pandas as pd"
   ]
  },
  {
   "cell_type": "code",
   "execution_count": 62,
   "id": "0e0bf9a5",
   "metadata": {},
   "outputs": [
    {
     "data": {
      "text/html": [
       "<div>\n",
       "<style scoped>\n",
       "    .dataframe tbody tr th:only-of-type {\n",
       "        vertical-align: middle;\n",
       "    }\n",
       "\n",
       "    .dataframe tbody tr th {\n",
       "        vertical-align: top;\n",
       "    }\n",
       "\n",
       "    .dataframe thead th {\n",
       "        text-align: right;\n",
       "    }\n",
       "</style>\n",
       "<table border=\"1\" class=\"dataframe\">\n",
       "  <thead>\n",
       "    <tr style=\"text-align: right;\">\n",
       "      <th></th>\n",
       "      <th>day</th>\n",
       "      <th>average_ch_20_5</th>\n",
       "      <th>average_ch_21_5</th>\n",
       "    </tr>\n",
       "  </thead>\n",
       "  <tbody>\n",
       "    <tr>\n",
       "      <th>0</th>\n",
       "      <td>0</td>\n",
       "      <td>0.000000</td>\n",
       "      <td>0.000000</td>\n",
       "    </tr>\n",
       "    <tr>\n",
       "      <th>1</th>\n",
       "      <td>13</td>\n",
       "      <td>0.014270</td>\n",
       "      <td>0.009240</td>\n",
       "    </tr>\n",
       "    <tr>\n",
       "      <th>2</th>\n",
       "      <td>25</td>\n",
       "      <td>0.082395</td>\n",
       "      <td>0.007381</td>\n",
       "    </tr>\n",
       "    <tr>\n",
       "      <th>3</th>\n",
       "      <td>35</td>\n",
       "      <td>0.154837</td>\n",
       "      <td>0.007807</td>\n",
       "    </tr>\n",
       "    <tr>\n",
       "      <th>4</th>\n",
       "      <td>41</td>\n",
       "      <td>0.185905</td>\n",
       "      <td>0.037288</td>\n",
       "    </tr>\n",
       "    <tr>\n",
       "      <th>5</th>\n",
       "      <td>49</td>\n",
       "      <td>0.227330</td>\n",
       "      <td>0.079972</td>\n",
       "    </tr>\n",
       "    <tr>\n",
       "      <th>6</th>\n",
       "      <td>55</td>\n",
       "      <td>0.395063</td>\n",
       "      <td>0.153447</td>\n",
       "    </tr>\n",
       "    <tr>\n",
       "      <th>7</th>\n",
       "      <td>62</td>\n",
       "      <td>0.459235</td>\n",
       "      <td>0.169336</td>\n",
       "    </tr>\n",
       "    <tr>\n",
       "      <th>8</th>\n",
       "      <td>69</td>\n",
       "      <td>0.523408</td>\n",
       "      <td>0.179791</td>\n",
       "    </tr>\n",
       "    <tr>\n",
       "      <th>9</th>\n",
       "      <td>77</td>\n",
       "      <td>0.653634</td>\n",
       "      <td>0.186437</td>\n",
       "    </tr>\n",
       "    <tr>\n",
       "      <th>10</th>\n",
       "      <td>84</td>\n",
       "      <td>0.726012</td>\n",
       "      <td>0.150745</td>\n",
       "    </tr>\n",
       "    <tr>\n",
       "      <th>11</th>\n",
       "      <td>91</td>\n",
       "      <td>0.798391</td>\n",
       "      <td>0.173948</td>\n",
       "    </tr>\n",
       "    <tr>\n",
       "      <th>12</th>\n",
       "      <td>97</td>\n",
       "      <td>0.860430</td>\n",
       "      <td>0.223748</td>\n",
       "    </tr>\n",
       "    <tr>\n",
       "      <th>13</th>\n",
       "      <td>111</td>\n",
       "      <td>0.810501</td>\n",
       "      <td>0.244192</td>\n",
       "    </tr>\n",
       "    <tr>\n",
       "      <th>14</th>\n",
       "      <td>116</td>\n",
       "      <td>0.790000</td>\n",
       "      <td>0.359943</td>\n",
       "    </tr>\n",
       "  </tbody>\n",
       "</table>\n",
       "</div>"
      ],
      "text/plain": [
       "    day  average_ch_20_5  average_ch_21_5\n",
       "0     0         0.000000         0.000000\n",
       "1    13         0.014270         0.009240\n",
       "2    25         0.082395         0.007381\n",
       "3    35         0.154837         0.007807\n",
       "4    41         0.185905         0.037288\n",
       "5    49         0.227330         0.079972\n",
       "6    55         0.395063         0.153447\n",
       "7    62         0.459235         0.169336\n",
       "8    69         0.523408         0.179791\n",
       "9    77         0.653634         0.186437\n",
       "10   84         0.726012         0.150745\n",
       "11   91         0.798391         0.173948\n",
       "12   97         0.860430         0.223748\n",
       "13  111         0.810501         0.244192\n",
       "14  116         0.790000         0.359943"
      ]
     },
     "execution_count": 62,
     "metadata": {},
     "output_type": "execute_result"
    }
   ],
   "source": [
    "data1 = pd.read_excel(\"C:/Users/samba/OneDrive/Desktop/TAMU CORPUS/Driscoll/combined_datasets/average_ch_5.xlsx\")\n",
    "data1"
   ]
  },
  {
   "cell_type": "code",
   "execution_count": 63,
   "id": "c57b0549",
   "metadata": {},
   "outputs": [
    {
     "name": "stdout",
     "output_type": "stream",
     "text": [
      "[[0.         0.        ]\n",
      " [0.01426998 0.00923982]\n",
      " [0.0823946  0.00738051]\n",
      " [0.15483664 0.00780737]\n",
      " [0.18590514 0.03728786]\n",
      " [0.22732983 0.07997232]\n",
      " [0.39506259 0.15344746]\n",
      " [0.45923516 0.16933618]\n",
      " [0.52340774 0.17979087]\n",
      " [0.65363373 0.18643669]\n",
      " [0.72601237 0.15074486]\n",
      " [0.79839101 0.17394751]\n",
      " [0.86042984 0.22374813]\n",
      " [0.81050052 0.24419165]\n",
      " [0.79       0.35994284]]\n"
     ]
    }
   ],
   "source": [
    "in_seq1 = data1['average_ch_20_5'].to_numpy()\n",
    "in_seq2 = data1['average_ch_21_5'].to_numpy()\n",
    "#out_seq = data1['average_eg_21_5'].to_numpy()\n",
    "in_seq1 = in_seq1.reshape((len(in_seq1), 1))\n",
    "in_seq2 = in_seq2.reshape((len(in_seq2), 1))\n",
    "#out_seq = out_seq.reshape((len(out_seq), 1))\n",
    "dataset = np.hstack((in_seq1, in_seq2))\n",
    "print(dataset)"
   ]
  },
  {
   "cell_type": "code",
   "execution_count": 64,
   "id": "d8d2fa96",
   "metadata": {},
   "outputs": [],
   "source": [
    "training_set = dataset[0:13]\n",
    "testing_set = dataset[13:16]"
   ]
  },
  {
   "cell_type": "code",
   "execution_count": 65,
   "id": "b0b78e87",
   "metadata": {},
   "outputs": [
    {
     "data": {
      "text/plain": [
       "array([[0.81050052, 0.24419165],\n",
       "       [0.79      , 0.35994284]])"
      ]
     },
     "execution_count": 65,
     "metadata": {},
     "output_type": "execute_result"
    }
   ],
   "source": [
    "testing_set"
   ]
  },
  {
   "cell_type": "code",
   "execution_count": 66,
   "id": "b44acb66",
   "metadata": {},
   "outputs": [
    {
     "data": {
      "text/plain": [
       "array([[0.        , 0.        ],\n",
       "       [0.01426998, 0.00923982],\n",
       "       [0.0823946 , 0.00738051],\n",
       "       [0.15483664, 0.00780737],\n",
       "       [0.18590514, 0.03728786],\n",
       "       [0.22732983, 0.07997232],\n",
       "       [0.39506259, 0.15344746],\n",
       "       [0.45923516, 0.16933618],\n",
       "       [0.52340774, 0.17979087],\n",
       "       [0.65363373, 0.18643669],\n",
       "       [0.72601237, 0.15074486],\n",
       "       [0.79839101, 0.17394751],\n",
       "       [0.86042984, 0.22374813]])"
      ]
     },
     "execution_count": 66,
     "metadata": {},
     "output_type": "execute_result"
    }
   ],
   "source": [
    "training_set"
   ]
  },
  {
   "cell_type": "code",
   "execution_count": 67,
   "id": "bd98b5c0",
   "metadata": {},
   "outputs": [],
   "source": [
    "# choose a number of time steps\n",
    "n_steps = 3\n",
    "# split into samples\n",
    "X,y = list(), list()\n",
    "for i in range(len(training_set)):\n",
    "    #find the end of this pattern\n",
    "    end_ix = i + n_steps\n",
    "    #check if we are beyond the sequence\n",
    "    if end_ix > len(training_set):\n",
    "        break\n",
    "    #gather input and output parts of the pattern\n",
    "    seq_x, seq_y = training_set[i:end_ix, :-1], training_set[end_ix-1, -1]\n",
    "    X.append(seq_x)\n",
    "    y.append(seq_y)\n",
    "X = np.array(X)\n",
    "y = np.array(y)"
   ]
  },
  {
   "cell_type": "code",
   "execution_count": 68,
   "id": "cc3a4c47",
   "metadata": {},
   "outputs": [
    {
     "name": "stdout",
     "output_type": "stream",
     "text": [
      "(11, 3, 1)\n"
     ]
    }
   ],
   "source": [
    "print(X.shape)"
   ]
  },
  {
   "cell_type": "code",
   "execution_count": 69,
   "id": "e75fae3e",
   "metadata": {},
   "outputs": [],
   "source": [
    "from numpy import array\n",
    "from tensorflow.keras.models import Sequential\n",
    "from tensorflow.keras.layers import LSTM\n",
    "from tensorflow.keras.layers import Dense\n",
    "from tensorflow.keras.layers import Bidirectional\n",
    "from tensorflow.keras.layers import TimeDistributed\n",
    "from tensorflow.keras.layers import Flatten"
   ]
  },
  {
   "cell_type": "code",
   "execution_count": 70,
   "id": "b0e93183",
   "metadata": {},
   "outputs": [
    {
     "name": "stdout",
     "output_type": "stream",
     "text": [
      "WARNING:tensorflow:Layer lstm_5 will not use cuDNN kernels since it doesn't meet the criteria. It will use a generic GPU kernel as fallback when running on GPU.\n"
     ]
    },
    {
     "ename": "ValueError",
     "evalue": "cannot reshape array of size 2 into shape (1,3,1)",
     "output_type": "error",
     "traceback": [
      "\u001b[1;31m---------------------------------------------------------------------------\u001b[0m",
      "\u001b[1;31mValueError\u001b[0m                                Traceback (most recent call last)",
      "Input \u001b[1;32mIn [70]\u001b[0m, in \u001b[0;36m<cell line: 11>\u001b[1;34m()\u001b[0m\n\u001b[0;32m      9\u001b[0m \u001b[38;5;66;03m# demonstrate prediction\u001b[39;00m\n\u001b[0;32m     10\u001b[0m x_input \u001b[38;5;241m=\u001b[39m testing_set[:,:\u001b[38;5;241m-\u001b[39m\u001b[38;5;241m1\u001b[39m]\n\u001b[1;32m---> 11\u001b[0m x_input \u001b[38;5;241m=\u001b[39m \u001b[43mx_input\u001b[49m\u001b[38;5;241;43m.\u001b[39;49m\u001b[43mreshape\u001b[49m\u001b[43m(\u001b[49m\u001b[43m(\u001b[49m\u001b[38;5;241;43m1\u001b[39;49m\u001b[43m,\u001b[49m\u001b[43m \u001b[49m\u001b[43mn_steps\u001b[49m\u001b[43m,\u001b[49m\u001b[43m \u001b[49m\u001b[43mn_features\u001b[49m\u001b[43m)\u001b[49m\u001b[43m)\u001b[49m\n\u001b[0;32m     12\u001b[0m yhat \u001b[38;5;241m=\u001b[39m model\u001b[38;5;241m.\u001b[39mpredict(x_input, verbose\u001b[38;5;241m=\u001b[39m\u001b[38;5;241m0\u001b[39m)\n\u001b[0;32m     13\u001b[0m \u001b[38;5;28mprint\u001b[39m(yhat)\n",
      "\u001b[1;31mValueError\u001b[0m: cannot reshape array of size 2 into shape (1,3,1)"
     ]
    }
   ],
   "source": [
    "# define model\n",
    "n_features = X.shape[2]\n",
    "model = Sequential()\n",
    "model.add(LSTM(50, activation='relu', input_shape=(n_steps, n_features)))\n",
    "model.add(Dense(1))\n",
    "model.compile(optimizer='adam', loss='mse')\n",
    "# fit model\n",
    "model.fit(X, y, epochs=200, verbose=0)\n",
    "# demonstrate prediction\n",
    "x_input = testing_set[:,:-1]\n",
    "x_input = x_input.reshape((1, n_steps, n_features))\n",
    "yhat = model.predict(x_input, verbose=0)\n",
    "print(yhat)"
   ]
  },
  {
   "cell_type": "code",
   "execution_count": null,
   "id": "0f87116a",
   "metadata": {},
   "outputs": [],
   "source": []
  }
 ],
 "metadata": {
  "kernelspec": {
   "display_name": "Python 3 (ipykernel)",
   "language": "python",
   "name": "python3"
  },
  "language_info": {
   "codemirror_mode": {
    "name": "ipython",
    "version": 3
   },
   "file_extension": ".py",
   "mimetype": "text/x-python",
   "name": "python",
   "nbconvert_exporter": "python",
   "pygments_lexer": "ipython3",
   "version": "3.9.12"
  }
 },
 "nbformat": 4,
 "nbformat_minor": 5
}
