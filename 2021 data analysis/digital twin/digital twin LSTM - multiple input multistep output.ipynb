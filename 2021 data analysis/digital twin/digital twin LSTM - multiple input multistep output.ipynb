{
 "cells": [
  {
   "cell_type": "code",
   "execution_count": 1003,
   "id": "87771a09",
   "metadata": {},
   "outputs": [],
   "source": [
    "import numpy as np\n",
    "import matplotlib.pyplot as plt\n",
    "import pandas as pd\n",
    "from numpy import hstack"
   ]
  },
  {
   "cell_type": "code",
   "execution_count": 1088,
   "id": "0e0bf9a5",
   "metadata": {},
   "outputs": [
    {
     "data": {
      "text/html": [
       "<div>\n",
       "<style scoped>\n",
       "    .dataframe tbody tr th:only-of-type {\n",
       "        vertical-align: middle;\n",
       "    }\n",
       "\n",
       "    .dataframe tbody tr th {\n",
       "        vertical-align: top;\n",
       "    }\n",
       "\n",
       "    .dataframe thead th {\n",
       "        text-align: right;\n",
       "    }\n",
       "</style>\n",
       "<table border=\"1\" class=\"dataframe\">\n",
       "  <thead>\n",
       "    <tr style=\"text-align: right;\">\n",
       "      <th></th>\n",
       "      <th>day</th>\n",
       "      <th>average_ch_20_5</th>\n",
       "      <th>average_ch_21_5</th>\n",
       "    </tr>\n",
       "  </thead>\n",
       "  <tbody>\n",
       "    <tr>\n",
       "      <th>0</th>\n",
       "      <td>0</td>\n",
       "      <td>0.000000</td>\n",
       "      <td>0.000000</td>\n",
       "    </tr>\n",
       "    <tr>\n",
       "      <th>1</th>\n",
       "      <td>13</td>\n",
       "      <td>0.014270</td>\n",
       "      <td>0.009240</td>\n",
       "    </tr>\n",
       "    <tr>\n",
       "      <th>2</th>\n",
       "      <td>25</td>\n",
       "      <td>0.082395</td>\n",
       "      <td>0.007381</td>\n",
       "    </tr>\n",
       "    <tr>\n",
       "      <th>3</th>\n",
       "      <td>35</td>\n",
       "      <td>0.154837</td>\n",
       "      <td>0.007807</td>\n",
       "    </tr>\n",
       "    <tr>\n",
       "      <th>4</th>\n",
       "      <td>41</td>\n",
       "      <td>0.185905</td>\n",
       "      <td>0.037288</td>\n",
       "    </tr>\n",
       "    <tr>\n",
       "      <th>5</th>\n",
       "      <td>49</td>\n",
       "      <td>0.227330</td>\n",
       "      <td>0.079972</td>\n",
       "    </tr>\n",
       "    <tr>\n",
       "      <th>6</th>\n",
       "      <td>55</td>\n",
       "      <td>0.395063</td>\n",
       "      <td>0.153447</td>\n",
       "    </tr>\n",
       "    <tr>\n",
       "      <th>7</th>\n",
       "      <td>62</td>\n",
       "      <td>0.459235</td>\n",
       "      <td>0.169336</td>\n",
       "    </tr>\n",
       "    <tr>\n",
       "      <th>8</th>\n",
       "      <td>69</td>\n",
       "      <td>0.523408</td>\n",
       "      <td>0.179791</td>\n",
       "    </tr>\n",
       "    <tr>\n",
       "      <th>9</th>\n",
       "      <td>77</td>\n",
       "      <td>0.653634</td>\n",
       "      <td>0.186437</td>\n",
       "    </tr>\n",
       "    <tr>\n",
       "      <th>10</th>\n",
       "      <td>84</td>\n",
       "      <td>0.726012</td>\n",
       "      <td>0.150745</td>\n",
       "    </tr>\n",
       "    <tr>\n",
       "      <th>11</th>\n",
       "      <td>91</td>\n",
       "      <td>0.798391</td>\n",
       "      <td>0.173948</td>\n",
       "    </tr>\n",
       "    <tr>\n",
       "      <th>12</th>\n",
       "      <td>97</td>\n",
       "      <td>0.860430</td>\n",
       "      <td>0.223748</td>\n",
       "    </tr>\n",
       "    <tr>\n",
       "      <th>13</th>\n",
       "      <td>111</td>\n",
       "      <td>0.810501</td>\n",
       "      <td>0.244192</td>\n",
       "    </tr>\n",
       "    <tr>\n",
       "      <th>14</th>\n",
       "      <td>116</td>\n",
       "      <td>0.790000</td>\n",
       "      <td>0.359943</td>\n",
       "    </tr>\n",
       "  </tbody>\n",
       "</table>\n",
       "</div>"
      ],
      "text/plain": [
       "    day  average_ch_20_5  average_ch_21_5\n",
       "0     0         0.000000         0.000000\n",
       "1    13         0.014270         0.009240\n",
       "2    25         0.082395         0.007381\n",
       "3    35         0.154837         0.007807\n",
       "4    41         0.185905         0.037288\n",
       "5    49         0.227330         0.079972\n",
       "6    55         0.395063         0.153447\n",
       "7    62         0.459235         0.169336\n",
       "8    69         0.523408         0.179791\n",
       "9    77         0.653634         0.186437\n",
       "10   84         0.726012         0.150745\n",
       "11   91         0.798391         0.173948\n",
       "12   97         0.860430         0.223748\n",
       "13  111         0.810501         0.244192\n",
       "14  116         0.790000         0.359943"
      ]
     },
     "execution_count": 1088,
     "metadata": {},
     "output_type": "execute_result"
    }
   ],
   "source": [
    "data1 = pd.read_excel(\"C:/Users/samba/OneDrive/Desktop/TAMU CORPUS/Driscoll/combined_datasets/average_ch_5.xlsx\")\n",
    "data1"
   ]
  },
  {
   "cell_type": "code",
   "execution_count": 1089,
   "id": "170e458e",
   "metadata": {},
   "outputs": [
    {
     "name": "stdout",
     "output_type": "stream",
     "text": [
      "[[0.         0.        ]\n",
      " [0.01426998 0.00923982]\n",
      " [0.0823946  0.00738051]\n",
      " [0.15483664 0.00780737]\n",
      " [0.18590514 0.03728786]\n",
      " [0.22732983 0.07997232]\n",
      " [0.39506259 0.15344746]\n",
      " [0.45923516 0.16933618]\n",
      " [0.52340774 0.17979087]\n",
      " [0.65363373 0.18643669]\n",
      " [0.72601237 0.15074486]\n",
      " [0.79839101 0.17394751]\n",
      " [0.86042984 0.22374813]\n",
      " [0.81050052 0.24419165]\n",
      " [0.79       0.35994284]]\n"
     ]
    }
   ],
   "source": [
    "#in_seq1 = data1['average_eg_19_5'].to_numpy()\n",
    "in_seq2 = data1['average_ch_20_5'].to_numpy()\n",
    "out_seq = data1['average_ch_21_5'].to_numpy()\n",
    "#in_seq1 = in_seq1.reshape((len(in_seq1), 1))\n",
    "in_seq2 = in_seq2.reshape((len(in_seq2), 1))\n",
    "out_seq = out_seq.reshape((len(out_seq), 1))\n",
    "dataset = np.hstack((in_seq2, out_seq))\n",
    "print(dataset)"
   ]
  },
  {
   "cell_type": "code",
   "execution_count": 1090,
   "id": "e287ebf9",
   "metadata": {},
   "outputs": [],
   "source": [
    "data2 = dataset"
   ]
  },
  {
   "cell_type": "code",
   "execution_count": 1097,
   "id": "0735d315",
   "metadata": {},
   "outputs": [],
   "source": [
    "training_set = data2[0:13]\n",
    "testing_set = data2[10:13]"
   ]
  },
  {
   "cell_type": "code",
   "execution_count": 1098,
   "id": "9381818c",
   "metadata": {},
   "outputs": [
    {
     "data": {
      "text/plain": [
       "array([[0.        , 0.        ],\n",
       "       [0.01426998, 0.00923982],\n",
       "       [0.0823946 , 0.00738051],\n",
       "       [0.15483664, 0.00780737],\n",
       "       [0.18590514, 0.03728786],\n",
       "       [0.22732983, 0.07997232],\n",
       "       [0.39506259, 0.15344746],\n",
       "       [0.45923516, 0.16933618],\n",
       "       [0.52340774, 0.17979087],\n",
       "       [0.65363373, 0.18643669],\n",
       "       [0.72601237, 0.15074486],\n",
       "       [0.79839101, 0.17394751],\n",
       "       [0.86042984, 0.22374813]])"
      ]
     },
     "execution_count": 1098,
     "metadata": {},
     "output_type": "execute_result"
    }
   ],
   "source": [
    "training_set"
   ]
  },
  {
   "cell_type": "code",
   "execution_count": 1099,
   "id": "8aa4b6f0",
   "metadata": {},
   "outputs": [
    {
     "data": {
      "text/plain": [
       "array([[0.72601237],\n",
       "       [0.79839101],\n",
       "       [0.86042984]])"
      ]
     },
     "execution_count": 1099,
     "metadata": {},
     "output_type": "execute_result"
    }
   ],
   "source": [
    "x_input = testing_set[:,:-1]\n",
    "x_input"
   ]
  },
  {
   "cell_type": "code",
   "execution_count": 1100,
   "id": "bd98b5c0",
   "metadata": {},
   "outputs": [
    {
     "name": "stdout",
     "output_type": "stream",
     "text": [
      "[[[0.        ]\n",
      "  [0.01426998]\n",
      "  [0.0823946 ]]\n",
      "\n",
      " [[0.01426998]\n",
      "  [0.0823946 ]\n",
      "  [0.15483664]]\n",
      "\n",
      " [[0.0823946 ]\n",
      "  [0.15483664]\n",
      "  [0.18590514]]\n",
      "\n",
      " [[0.15483664]\n",
      "  [0.18590514]\n",
      "  [0.22732983]]\n",
      "\n",
      " [[0.18590514]\n",
      "  [0.22732983]\n",
      "  [0.39506259]]\n",
      "\n",
      " [[0.22732983]\n",
      "  [0.39506259]\n",
      "  [0.45923516]]\n",
      "\n",
      " [[0.39506259]\n",
      "  [0.45923516]\n",
      "  [0.52340774]]\n",
      "\n",
      " [[0.45923516]\n",
      "  [0.52340774]\n",
      "  [0.65363373]]\n",
      "\n",
      " [[0.52340774]\n",
      "  [0.65363373]\n",
      "  [0.72601237]]\n",
      "\n",
      " [[0.65363373]\n",
      "  [0.72601237]\n",
      "  [0.79839101]]]\n",
      "[[0.00738051 0.00780737]\n",
      " [0.00780737 0.03728786]\n",
      " [0.03728786 0.07997232]\n",
      " [0.07997232 0.15344746]\n",
      " [0.15344746 0.16933618]\n",
      " [0.16933618 0.17979087]\n",
      " [0.17979087 0.18643669]\n",
      " [0.18643669 0.15074486]\n",
      " [0.15074486 0.17394751]\n",
      " [0.17394751 0.22374813]]\n"
     ]
    }
   ],
   "source": [
    "#vanilla lstm\n",
    "# univariate lstm example\n",
    "from numpy import array\n",
    "from keras.models import Sequential\n",
    "from keras.layers import LSTM\n",
    "from keras.layers import Dense\n",
    "from keras.layers import RepeatVector\n",
    "from keras.layers import TimeDistributed\n",
    "# choose a number of time steps\n",
    "n_steps_in, n_steps_out = 3, 2\n",
    "# split into samples\n",
    "X,y = list(), list()\n",
    "for i in range(len(training_set)):\n",
    "    #find the end of this pattern\n",
    "    end_ix = i + n_steps_in\n",
    "    out_end_ix = end_ix + n_steps_out-1\n",
    "    #check if we are beyond the sequence\n",
    "    if out_end_ix > len(training_set):\n",
    "        break\n",
    "    #gather input and output parts of the pattern\n",
    "    seq_x, seq_y = training_set[i:end_ix, :-1], training_set[end_ix-1:out_end_ix, -1]\n",
    "    X.append(seq_x)\n",
    "    y.append(seq_y)\n",
    "X = np.array(X)\n",
    "y = np.array(y)\n",
    "print (X)\n",
    "print (y)"
   ]
  },
  {
   "cell_type": "code",
   "execution_count": 1101,
   "id": "4c55da82",
   "metadata": {},
   "outputs": [
    {
     "name": "stdout",
     "output_type": "stream",
     "text": [
      "WARNING:tensorflow:Layer lstm_228 will not use cuDNN kernels since it doesn't meet the criteria. It will use a generic GPU kernel as fallback when running on GPU.\n",
      "WARNING:tensorflow:Layer lstm_229 will not use cuDNN kernels since it doesn't meet the criteria. It will use a generic GPU kernel as fallback when running on GPU.\n"
     ]
    },
    {
     "data": {
      "text/plain": [
       "<keras.callbacks.History at 0x2749cf05a90>"
      ]
     },
     "execution_count": 1101,
     "metadata": {},
     "output_type": "execute_result"
    }
   ],
   "source": [
    "# the dataset knows the number of features, e.g. 2\n",
    "n_features = X.shape[2]\n",
    "# define model\n",
    "model = Sequential()\n",
    "model.add(LSTM(100, activation='relu', return_sequences=True, input_shape=(n_steps_in, n_features)))\n",
    "model.add(LSTM(100, activation='relu'))\n",
    "model.add(Dense(n_steps_out))\n",
    "model.compile(optimizer='adam', loss='mse')\n",
    "# fit model\n",
    "model.fit(X, y, epochs=200, verbose=0)"
   ]
  },
  {
   "cell_type": "code",
   "execution_count": 1102,
   "id": "6679cd5f",
   "metadata": {},
   "outputs": [
    {
     "name": "stdout",
     "output_type": "stream",
     "text": [
      "[[0.19701375 0.20488545]]\n"
     ]
    }
   ],
   "source": [
    "# demonstrate prediction\n",
    "x_input = testing_set[:,:-1]\n",
    "x_input = x_input.reshape((1, n_steps_in, n_features))\n",
    "yhat = model.predict(x_input, verbose=0)\n",
    "print(yhat)"
   ]
  },
  {
   "cell_type": "code",
   "execution_count": null,
   "id": "79d9d494",
   "metadata": {},
   "outputs": [],
   "source": []
  }
 ],
 "metadata": {
  "kernelspec": {
   "display_name": "Python 3 (ipykernel)",
   "language": "python",
   "name": "python3"
  },
  "language_info": {
   "codemirror_mode": {
    "name": "ipython",
    "version": 3
   },
   "file_extension": ".py",
   "mimetype": "text/x-python",
   "name": "python",
   "nbconvert_exporter": "python",
   "pygments_lexer": "ipython3",
   "version": "3.9.12"
  }
 },
 "nbformat": 4,
 "nbformat_minor": 5
}
