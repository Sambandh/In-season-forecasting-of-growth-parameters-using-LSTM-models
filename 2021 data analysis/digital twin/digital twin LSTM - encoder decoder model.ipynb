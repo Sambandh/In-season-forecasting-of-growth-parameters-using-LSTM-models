{
 "cells": [
  {
   "cell_type": "code",
   "execution_count": 35,
   "id": "87771a09",
   "metadata": {},
   "outputs": [],
   "source": [
    "import numpy as np\n",
    "import matplotlib.pyplot as plt\n",
    "import pandas as pd"
   ]
  },
  {
   "cell_type": "code",
   "execution_count": 36,
   "id": "0e0bf9a5",
   "metadata": {},
   "outputs": [
    {
     "data": {
      "text/html": [
       "<div>\n",
       "<style scoped>\n",
       "    .dataframe tbody tr th:only-of-type {\n",
       "        vertical-align: middle;\n",
       "    }\n",
       "\n",
       "    .dataframe tbody tr th {\n",
       "        vertical-align: top;\n",
       "    }\n",
       "\n",
       "    .dataframe thead th {\n",
       "        text-align: right;\n",
       "    }\n",
       "</style>\n",
       "<table border=\"1\" class=\"dataframe\">\n",
       "  <thead>\n",
       "    <tr style=\"text-align: right;\">\n",
       "      <th></th>\n",
       "      <th>day</th>\n",
       "      <th>average_cc_21_0</th>\n",
       "    </tr>\n",
       "  </thead>\n",
       "  <tbody>\n",
       "    <tr>\n",
       "      <th>0</th>\n",
       "      <td>0cc21</td>\n",
       "      <td>0.002520</td>\n",
       "    </tr>\n",
       "    <tr>\n",
       "      <th>1</th>\n",
       "      <td>13cc21</td>\n",
       "      <td>0.473314</td>\n",
       "    </tr>\n",
       "    <tr>\n",
       "      <th>2</th>\n",
       "      <td>25cc21</td>\n",
       "      <td>14.547168</td>\n",
       "    </tr>\n",
       "    <tr>\n",
       "      <th>3</th>\n",
       "      <td>35cc21</td>\n",
       "      <td>21.776037</td>\n",
       "    </tr>\n",
       "    <tr>\n",
       "      <th>4</th>\n",
       "      <td>41cc21</td>\n",
       "      <td>29.348252</td>\n",
       "    </tr>\n",
       "    <tr>\n",
       "      <th>5</th>\n",
       "      <td>49cc21</td>\n",
       "      <td>46.459822</td>\n",
       "    </tr>\n",
       "    <tr>\n",
       "      <th>6</th>\n",
       "      <td>55cc21</td>\n",
       "      <td>62.859898</td>\n",
       "    </tr>\n",
       "    <tr>\n",
       "      <th>7</th>\n",
       "      <td>62cc21</td>\n",
       "      <td>76.352083</td>\n",
       "    </tr>\n",
       "    <tr>\n",
       "      <th>8</th>\n",
       "      <td>69cc21</td>\n",
       "      <td>89.949687</td>\n",
       "    </tr>\n",
       "    <tr>\n",
       "      <th>9</th>\n",
       "      <td>77cc21</td>\n",
       "      <td>97.915300</td>\n",
       "    </tr>\n",
       "    <tr>\n",
       "      <th>10</th>\n",
       "      <td>84cc21</td>\n",
       "      <td>98.198073</td>\n",
       "    </tr>\n",
       "    <tr>\n",
       "      <th>11</th>\n",
       "      <td>91cc21</td>\n",
       "      <td>99.354463</td>\n",
       "    </tr>\n",
       "    <tr>\n",
       "      <th>12</th>\n",
       "      <td>97cc21</td>\n",
       "      <td>99.480517</td>\n",
       "    </tr>\n",
       "    <tr>\n",
       "      <th>13</th>\n",
       "      <td>111cc21</td>\n",
       "      <td>99.615371</td>\n",
       "    </tr>\n",
       "    <tr>\n",
       "      <th>14</th>\n",
       "      <td>116cc21</td>\n",
       "      <td>99.599741</td>\n",
       "    </tr>\n",
       "    <tr>\n",
       "      <th>15</th>\n",
       "      <td>121cc21</td>\n",
       "      <td>98.479884</td>\n",
       "    </tr>\n",
       "    <tr>\n",
       "      <th>16</th>\n",
       "      <td>124cc21</td>\n",
       "      <td>94.264743</td>\n",
       "    </tr>\n",
       "  </tbody>\n",
       "</table>\n",
       "</div>"
      ],
      "text/plain": [
       "        day  average_cc_21_0\n",
       "0     0cc21         0.002520\n",
       "1    13cc21         0.473314\n",
       "2    25cc21        14.547168\n",
       "3    35cc21        21.776037\n",
       "4    41cc21        29.348252\n",
       "5    49cc21        46.459822\n",
       "6    55cc21        62.859898\n",
       "7    62cc21        76.352083\n",
       "8    69cc21        89.949687\n",
       "9    77cc21        97.915300\n",
       "10   84cc21        98.198073\n",
       "11   91cc21        99.354463\n",
       "12   97cc21        99.480517\n",
       "13  111cc21        99.615371\n",
       "14  116cc21        99.599741\n",
       "15  121cc21        98.479884\n",
       "16  124cc21        94.264743"
      ]
     },
     "execution_count": 36,
     "metadata": {},
     "output_type": "execute_result"
    }
   ],
   "source": [
    "data1 = pd.read_csv(\"C:/Users/samba/OneDrive/Desktop/TAMU CORPUS/Driscoll/2021/digital twin/2021_avg_cc_0.csv\")\n",
    "data1"
   ]
  },
  {
   "cell_type": "code",
   "execution_count": 37,
   "id": "de3c174a",
   "metadata": {},
   "outputs": [],
   "source": [
    "data2 = data1['average_cc_21_0']"
   ]
  },
  {
   "cell_type": "code",
   "execution_count": 44,
   "id": "0735d315",
   "metadata": {},
   "outputs": [],
   "source": [
    "dataset_train = data2[0:9]\n",
    "dataset_test = data2[6:9]"
   ]
  },
  {
   "cell_type": "code",
   "execution_count": 45,
   "id": "6d023c0d",
   "metadata": {},
   "outputs": [
    {
     "data": {
      "text/plain": [
       "array([2.52013300e-03, 4.73313898e-01, 1.45471678e+01, 2.17760368e+01,\n",
       "       2.93482519e+01, 4.64598223e+01, 6.28598980e+01, 7.63520827e+01,\n",
       "       8.99496872e+01])"
      ]
     },
     "execution_count": 45,
     "metadata": {},
     "output_type": "execute_result"
    }
   ],
   "source": [
    "training_set = dataset_train.values\n",
    "training_set"
   ]
  },
  {
   "cell_type": "code",
   "execution_count": 46,
   "id": "b957e40c",
   "metadata": {},
   "outputs": [
    {
     "data": {
      "text/plain": [
       "array([62.85989802, 76.35208271, 89.94968717])"
      ]
     },
     "execution_count": 46,
     "metadata": {},
     "output_type": "execute_result"
    }
   ],
   "source": [
    "testing_set = dataset_test.values\n",
    "testing_set"
   ]
  },
  {
   "cell_type": "code",
   "execution_count": 47,
   "id": "bd98b5c0",
   "metadata": {},
   "outputs": [
    {
     "name": "stdout",
     "output_type": "stream",
     "text": [
      "[[2.52013300e-03 4.73313898e-01 1.45471678e+01]\n",
      " [4.73313898e-01 1.45471678e+01 2.17760368e+01]\n",
      " [1.45471678e+01 2.17760368e+01 2.93482519e+01]\n",
      " [2.17760368e+01 2.93482519e+01 4.64598223e+01]\n",
      " [2.93482519e+01 4.64598223e+01 6.28598980e+01]]\n",
      "[[21.77603684 29.3482519 ]\n",
      " [29.3482519  46.45982227]\n",
      " [46.45982227 62.85989802]\n",
      " [62.85989802 76.35208271]\n",
      " [76.35208271 89.94968717]]\n"
     ]
    }
   ],
   "source": [
    "#vanilla lstm\n",
    "# univariate lstm example\n",
    "from numpy import array\n",
    "from keras.models import Sequential\n",
    "from keras.layers import LSTM\n",
    "from keras.layers import Dense\n",
    "from keras.layers import RepeatVector\n",
    "from keras.layers import TimeDistributed\n",
    "# choose a number of time steps\n",
    "n_steps_in, n_steps_out = 3, 2\n",
    "# split into samples\n",
    "X,y = list(), list()\n",
    "for i in range(len(training_set)):\n",
    "    #find the end of this pattern\n",
    "    end_ix = i + n_steps_in\n",
    "    out_end_ix = end_ix + n_steps_out\n",
    "    #check if we are beyond the sequence\n",
    "    if out_end_ix > len(training_set):\n",
    "        break\n",
    "    #gather input and output parts of the pattern\n",
    "    seq_x, seq_y = training_set[i:end_ix], training_set[end_ix:out_end_ix]\n",
    "    X.append(seq_x)\n",
    "    y.append(seq_y)\n",
    "X = np.array(X)\n",
    "y = np.array(y)\n",
    "print (X)\n",
    "print (y)"
   ]
  },
  {
   "cell_type": "code",
   "execution_count": 52,
   "id": "4c55da82",
   "metadata": {},
   "outputs": [
    {
     "name": "stdout",
     "output_type": "stream",
     "text": [
      "WARNING:tensorflow:Layer lstm_20 will not use cuDNN kernels since it doesn't meet the criteria. It will use a generic GPU kernel as fallback when running on GPU.\n",
      "WARNING:tensorflow:Layer lstm_21 will not use cuDNN kernels since it doesn't meet the criteria. It will use a generic GPU kernel as fallback when running on GPU.\n",
      "WARNING:tensorflow:Layer lstm_22 will not use cuDNN kernels since it doesn't meet the criteria. It will use a generic GPU kernel as fallback when running on GPU.\n"
     ]
    },
    {
     "data": {
      "text/plain": [
       "<keras.callbacks.History at 0x19d942d4c40>"
      ]
     },
     "execution_count": 52,
     "metadata": {},
     "output_type": "execute_result"
    }
   ],
   "source": [
    "# reshape from [samples, timesteps] into [samples, timesteps, features]\n",
    "n_features = 1\n",
    "X = X.reshape((X.shape[0], X.shape[1], n_features))\n",
    "y = y.reshape((y.shape[0], y.shape[1], n_features))\n",
    "# define model\n",
    "model = Sequential()\n",
    "model.add(LSTM(100, activation='relu', input_shape=(n_steps_in, n_features)))\n",
    "model.add(RepeatVector(n_steps_out))\n",
    "model.add(LSTM(100, activation='relu', return_sequences=True))\n",
    "model.add(LSTM(100, activation='relu', return_sequences=True))\n",
    "model.add(TimeDistributed(Dense(1)))\n",
    "model.compile(optimizer='adam', loss='mse')\n",
    "# fit model\n",
    "model.fit(X, y, epochs=200, verbose=0)"
   ]
  },
  {
   "cell_type": "code",
   "execution_count": 53,
   "id": "6679cd5f",
   "metadata": {},
   "outputs": [
    {
     "name": "stdout",
     "output_type": "stream",
     "text": [
      "[[[118.8398 ]\n",
      "  [134.00621]]]\n"
     ]
    }
   ],
   "source": [
    "# demonstrate prediction\n",
    "x_input = testing_set\n",
    "x_input = x_input.reshape((1, n_steps_in, n_features))\n",
    "yhat = model.predict(x_input, verbose=0)\n",
    "print(yhat)"
   ]
  }
 ],
 "metadata": {
  "kernelspec": {
   "display_name": "Python 3 (ipykernel)",
   "language": "python",
   "name": "python3"
  },
  "language_info": {
   "codemirror_mode": {
    "name": "ipython",
    "version": 3
   },
   "file_extension": ".py",
   "mimetype": "text/x-python",
   "name": "python",
   "nbconvert_exporter": "python",
   "pygments_lexer": "ipython3",
   "version": "3.9.12"
  }
 },
 "nbformat": 4,
 "nbformat_minor": 5
}
