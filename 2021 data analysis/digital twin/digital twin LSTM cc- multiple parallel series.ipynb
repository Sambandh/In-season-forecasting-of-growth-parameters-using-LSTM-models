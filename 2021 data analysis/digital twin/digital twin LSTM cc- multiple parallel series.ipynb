{
 "cells": [
  {
   "cell_type": "code",
   "execution_count": 1942,
   "id": "87771a09",
   "metadata": {},
   "outputs": [],
   "source": [
    "import numpy as np\n",
    "import matplotlib.pyplot as plt\n",
    "import pandas as pd"
   ]
  },
  {
   "cell_type": "code",
   "execution_count": 2012,
   "id": "0e0bf9a5",
   "metadata": {},
   "outputs": [
    {
     "data": {
      "text/html": [
       "<div>\n",
       "<style scoped>\n",
       "    .dataframe tbody tr th:only-of-type {\n",
       "        vertical-align: middle;\n",
       "    }\n",
       "\n",
       "    .dataframe tbody tr th {\n",
       "        vertical-align: top;\n",
       "    }\n",
       "\n",
       "    .dataframe thead th {\n",
       "        text-align: right;\n",
       "    }\n",
       "</style>\n",
       "<table border=\"1\" class=\"dataframe\">\n",
       "  <thead>\n",
       "    <tr style=\"text-align: right;\">\n",
       "      <th></th>\n",
       "      <th>day</th>\n",
       "      <th>average_cc_19_5</th>\n",
       "      <th>average_eg_19_5</th>\n",
       "    </tr>\n",
       "  </thead>\n",
       "  <tbody>\n",
       "    <tr>\n",
       "      <th>0</th>\n",
       "      <td>0</td>\n",
       "      <td>0.000180</td>\n",
       "      <td>-0.015000</td>\n",
       "    </tr>\n",
       "    <tr>\n",
       "      <th>1</th>\n",
       "      <td>13</td>\n",
       "      <td>0.023000</td>\n",
       "      <td>-0.007000</td>\n",
       "    </tr>\n",
       "    <tr>\n",
       "      <th>2</th>\n",
       "      <td>25</td>\n",
       "      <td>1.880306</td>\n",
       "      <td>-0.006263</td>\n",
       "    </tr>\n",
       "    <tr>\n",
       "      <th>3</th>\n",
       "      <td>35</td>\n",
       "      <td>17.650586</td>\n",
       "      <td>0.030711</td>\n",
       "    </tr>\n",
       "    <tr>\n",
       "      <th>4</th>\n",
       "      <td>41</td>\n",
       "      <td>33.620998</td>\n",
       "      <td>0.063220</td>\n",
       "    </tr>\n",
       "    <tr>\n",
       "      <th>5</th>\n",
       "      <td>49</td>\n",
       "      <td>46.629007</td>\n",
       "      <td>0.090656</td>\n",
       "    </tr>\n",
       "    <tr>\n",
       "      <th>6</th>\n",
       "      <td>55</td>\n",
       "      <td>54.433813</td>\n",
       "      <td>0.107117</td>\n",
       "    </tr>\n",
       "    <tr>\n",
       "      <th>7</th>\n",
       "      <td>62</td>\n",
       "      <td>60.970851</td>\n",
       "      <td>0.132073</td>\n",
       "    </tr>\n",
       "    <tr>\n",
       "      <th>8</th>\n",
       "      <td>69</td>\n",
       "      <td>67.916843</td>\n",
       "      <td>0.148381</td>\n",
       "    </tr>\n",
       "    <tr>\n",
       "      <th>9</th>\n",
       "      <td>77</td>\n",
       "      <td>76.020499</td>\n",
       "      <td>0.167405</td>\n",
       "    </tr>\n",
       "    <tr>\n",
       "      <th>10</th>\n",
       "      <td>84</td>\n",
       "      <td>84.124156</td>\n",
       "      <td>0.186430</td>\n",
       "    </tr>\n",
       "    <tr>\n",
       "      <th>11</th>\n",
       "      <td>91</td>\n",
       "      <td>84.260000</td>\n",
       "      <td>0.177000</td>\n",
       "    </tr>\n",
       "    <tr>\n",
       "      <th>12</th>\n",
       "      <td>97</td>\n",
       "      <td>67.508885</td>\n",
       "      <td>0.138660</td>\n",
       "    </tr>\n",
       "    <tr>\n",
       "      <th>13</th>\n",
       "      <td>111</td>\n",
       "      <td>54.401694</td>\n",
       "      <td>0.102576</td>\n",
       "    </tr>\n",
       "    <tr>\n",
       "      <th>14</th>\n",
       "      <td>116</td>\n",
       "      <td>29.930000</td>\n",
       "      <td>0.062000</td>\n",
       "    </tr>\n",
       "  </tbody>\n",
       "</table>\n",
       "</div>"
      ],
      "text/plain": [
       "    day  average_cc_19_5  average_eg_19_5\n",
       "0     0         0.000180        -0.015000\n",
       "1    13         0.023000        -0.007000\n",
       "2    25         1.880306        -0.006263\n",
       "3    35        17.650586         0.030711\n",
       "4    41        33.620998         0.063220\n",
       "5    49        46.629007         0.090656\n",
       "6    55        54.433813         0.107117\n",
       "7    62        60.970851         0.132073\n",
       "8    69        67.916843         0.148381\n",
       "9    77        76.020499         0.167405\n",
       "10   84        84.124156         0.186430\n",
       "11   91        84.260000         0.177000\n",
       "12   97        67.508885         0.138660\n",
       "13  111        54.401694         0.102576\n",
       "14  116        29.930000         0.062000"
      ]
     },
     "execution_count": 2012,
     "metadata": {},
     "output_type": "execute_result"
    }
   ],
   "source": [
    "data1 = pd.read_excel(\"C:/Users/samba/OneDrive/Desktop/TAMU CORPUS/Driscoll/combined_yearly_datasets/2019_5.xlsx\")\n",
    "data1"
   ]
  },
  {
   "cell_type": "code",
   "execution_count": 2013,
   "id": "c57b0549",
   "metadata": {},
   "outputs": [
    {
     "name": "stdout",
     "output_type": "stream",
     "text": [
      "[[ 1.80000000e-04 -1.50000000e-02]\n",
      " [ 2.30000000e-02 -7.00000000e-03]\n",
      " [ 1.88030598e+00 -6.26265000e-03]\n",
      " [ 1.76505855e+01  3.07108240e-02]\n",
      " [ 3.36209981e+01  6.32200840e-02]\n",
      " [ 4.66290074e+01  9.06558130e-02]\n",
      " [ 5.44338130e+01  1.07117251e-01]\n",
      " [ 6.09708513e+01  1.32073492e-01]\n",
      " [ 6.79168427e+01  1.48380539e-01]\n",
      " [ 7.60204994e+01  1.67405428e-01]\n",
      " [ 8.41241561e+01  1.86430317e-01]\n",
      " [ 8.42600000e+01  1.77000000e-01]\n",
      " [ 6.75088851e+01  1.38659683e-01]\n",
      " [ 5.44016935e+01  1.02575956e-01]\n",
      " [ 2.99300000e+01  6.20000000e-02]]\n"
     ]
    }
   ],
   "source": [
    "in_seq1 = data1['average_cc_19_5'].to_numpy()\n",
    "#in_seq2 = data1['average_ch_20_5'].to_numpy()\n",
    "out_seq = data1['average_eg_19_5'].to_numpy()\n",
    "in_seq1 = in_seq1.reshape((len(in_seq1), 1))\n",
    "#in_seq2 = in_seq2.reshape((len(in_seq2), 1))\n",
    "out_seq = out_seq.reshape((len(out_seq), 1))\n",
    "dataset = np.hstack((in_seq1, out_seq))\n",
    "print(dataset)"
   ]
  },
  {
   "cell_type": "code",
   "execution_count": 2014,
   "id": "d8d2fa96",
   "metadata": {},
   "outputs": [],
   "source": [
    "training_set = dataset[0:1]\n",
    "testing_set = dataset[9:12]"
   ]
  },
  {
   "cell_type": "code",
   "execution_count": 2015,
   "id": "b0b78e87",
   "metadata": {},
   "outputs": [
    {
     "data": {
      "text/plain": [
       "array([[76.02049941,  0.16740543],\n",
       "       [84.12415611,  0.18643032],\n",
       "       [84.26      ,  0.177     ]])"
      ]
     },
     "execution_count": 2015,
     "metadata": {},
     "output_type": "execute_result"
    }
   ],
   "source": [
    "testing_set"
   ]
  },
  {
   "cell_type": "code",
   "execution_count": 2016,
   "id": "b44acb66",
   "metadata": {},
   "outputs": [
    {
     "data": {
      "text/plain": [
       "array([[ 1.80000000e-04, -1.50000000e-02],\n",
       "       [ 2.30000000e-02, -7.00000000e-03],\n",
       "       [ 1.88030598e+00, -6.26265000e-03],\n",
       "       [ 1.76505855e+01,  3.07108240e-02],\n",
       "       [ 3.36209981e+01,  6.32200840e-02],\n",
       "       [ 4.66290074e+01,  9.06558130e-02],\n",
       "       [ 5.44338130e+01,  1.07117251e-01],\n",
       "       [ 6.09708513e+01,  1.32073492e-01],\n",
       "       [ 6.79168427e+01,  1.48380539e-01],\n",
       "       [ 7.60204994e+01,  1.67405428e-01],\n",
       "       [ 8.41241561e+01,  1.86430317e-01],\n",
       "       [ 8.42600000e+01,  1.77000000e-01]])"
      ]
     },
     "execution_count": 2016,
     "metadata": {},
     "output_type": "execute_result"
    }
   ],
   "source": [
    "training_set"
   ]
  },
  {
   "cell_type": "code",
   "execution_count": 2017,
   "id": "bd98b5c0",
   "metadata": {},
   "outputs": [],
   "source": [
    "# choose a number of time steps\n",
    "n_steps = 3\n",
    "# split into samples\n",
    "X,y = list(), list()\n",
    "for i in range(len(training_set)):\n",
    "    #find the end of this pattern\n",
    "    end_ix = i + n_steps\n",
    "    #check if we are beyond the sequence\n",
    "    if end_ix > len(training_set)-1:\n",
    "        break\n",
    "    #gather input and output parts of the pattern\n",
    "    seq_x, seq_y = training_set[i:end_ix, :], training_set[end_ix, :]\n",
    "    X.append(seq_x)\n",
    "    y.append(seq_y)\n",
    "X = np.array(X)\n",
    "y = np.array(y)"
   ]
  },
  {
   "cell_type": "code",
   "execution_count": 2018,
   "id": "6c411533",
   "metadata": {},
   "outputs": [
    {
     "data": {
      "text/plain": [
       "array([[[ 1.80000000e-04, -1.50000000e-02],\n",
       "        [ 2.30000000e-02, -7.00000000e-03],\n",
       "        [ 1.88030598e+00, -6.26265000e-03]],\n",
       "\n",
       "       [[ 2.30000000e-02, -7.00000000e-03],\n",
       "        [ 1.88030598e+00, -6.26265000e-03],\n",
       "        [ 1.76505855e+01,  3.07108240e-02]],\n",
       "\n",
       "       [[ 1.88030598e+00, -6.26265000e-03],\n",
       "        [ 1.76505855e+01,  3.07108240e-02],\n",
       "        [ 3.36209981e+01,  6.32200840e-02]],\n",
       "\n",
       "       [[ 1.76505855e+01,  3.07108240e-02],\n",
       "        [ 3.36209981e+01,  6.32200840e-02],\n",
       "        [ 4.66290074e+01,  9.06558130e-02]],\n",
       "\n",
       "       [[ 3.36209981e+01,  6.32200840e-02],\n",
       "        [ 4.66290074e+01,  9.06558130e-02],\n",
       "        [ 5.44338130e+01,  1.07117251e-01]],\n",
       "\n",
       "       [[ 4.66290074e+01,  9.06558130e-02],\n",
       "        [ 5.44338130e+01,  1.07117251e-01],\n",
       "        [ 6.09708513e+01,  1.32073492e-01]],\n",
       "\n",
       "       [[ 5.44338130e+01,  1.07117251e-01],\n",
       "        [ 6.09708513e+01,  1.32073492e-01],\n",
       "        [ 6.79168427e+01,  1.48380539e-01]],\n",
       "\n",
       "       [[ 6.09708513e+01,  1.32073492e-01],\n",
       "        [ 6.79168427e+01,  1.48380539e-01],\n",
       "        [ 7.60204994e+01,  1.67405428e-01]],\n",
       "\n",
       "       [[ 6.79168427e+01,  1.48380539e-01],\n",
       "        [ 7.60204994e+01,  1.67405428e-01],\n",
       "        [ 8.41241561e+01,  1.86430317e-01]]])"
      ]
     },
     "execution_count": 2018,
     "metadata": {},
     "output_type": "execute_result"
    }
   ],
   "source": [
    "X"
   ]
  },
  {
   "cell_type": "code",
   "execution_count": 2019,
   "id": "cc3a4c47",
   "metadata": {},
   "outputs": [
    {
     "name": "stdout",
     "output_type": "stream",
     "text": [
      "(9, 3, 2)\n"
     ]
    }
   ],
   "source": [
    "print(X.shape)"
   ]
  },
  {
   "cell_type": "code",
   "execution_count": 2020,
   "id": "d666fa66",
   "metadata": {},
   "outputs": [
    {
     "data": {
      "text/plain": [
       "array([[1.76505855e+01, 3.07108240e-02],\n",
       "       [3.36209981e+01, 6.32200840e-02],\n",
       "       [4.66290074e+01, 9.06558130e-02],\n",
       "       [5.44338130e+01, 1.07117251e-01],\n",
       "       [6.09708513e+01, 1.32073492e-01],\n",
       "       [6.79168427e+01, 1.48380539e-01],\n",
       "       [7.60204994e+01, 1.67405428e-01],\n",
       "       [8.41241561e+01, 1.86430317e-01],\n",
       "       [8.42600000e+01, 1.77000000e-01]])"
      ]
     },
     "execution_count": 2020,
     "metadata": {},
     "output_type": "execute_result"
    }
   ],
   "source": [
    "y"
   ]
  },
  {
   "cell_type": "code",
   "execution_count": 2021,
   "id": "e75fae3e",
   "metadata": {},
   "outputs": [],
   "source": [
    "from numpy import array\n",
    "from tensorflow.keras.models import Sequential\n",
    "from tensorflow.keras.layers import LSTM\n",
    "from tensorflow.keras.layers import Dense\n",
    "from tensorflow.keras.layers import Bidirectional\n",
    "from tensorflow.keras.layers import TimeDistributed\n",
    "from tensorflow.keras.layers import Flatten"
   ]
  },
  {
   "cell_type": "code",
   "execution_count": 2022,
   "id": "b0e93183",
   "metadata": {},
   "outputs": [
    {
     "name": "stdout",
     "output_type": "stream",
     "text": [
      "WARNING:tensorflow:Layer lstm_332 will not use cuDNN kernels since it doesn't meet the criteria. It will use a generic GPU kernel as fallback when running on GPU.\n",
      "WARNING:tensorflow:Layer lstm_333 will not use cuDNN kernels since it doesn't meet the criteria. It will use a generic GPU kernel as fallback when running on GPU.\n",
      "[[85.39143   0.525814]]\n"
     ]
    }
   ],
   "source": [
    "# define model\n",
    "n_features = X.shape[2]\n",
    "model = Sequential()\n",
    "model.add(LSTM(100, activation='relu', return_sequences=True, input_shape=(n_steps, n_features)))\n",
    "model.add(LSTM(100, activation='relu'))\n",
    "model.add(Dense(n_features))\n",
    "model.compile(optimizer='adam', loss='mse')\n",
    "# fit model\n",
    "model.fit(X, y, epochs=400, verbose=0)\n",
    "# demonstrate prediction\n",
    "x_input = testing_set\n",
    "x_input = x_input.reshape((1, n_steps, n_features))\n",
    "yhat = model.predict(x_input, verbose=0)\n",
    "print(yhat)"
   ]
  },
  {
   "cell_type": "code",
   "execution_count": null,
   "id": "61802239",
   "metadata": {},
   "outputs": [],
   "source": []
  }
 ],
 "metadata": {
  "kernelspec": {
   "display_name": "Python 3 (ipykernel)",
   "language": "python",
   "name": "python3"
  },
  "language_info": {
   "codemirror_mode": {
    "name": "ipython",
    "version": 3
   },
   "file_extension": ".py",
   "mimetype": "text/x-python",
   "name": "python",
   "nbconvert_exporter": "python",
   "pygments_lexer": "ipython3",
   "version": "3.9.12"
  }
 },
 "nbformat": 4,
 "nbformat_minor": 5
}
