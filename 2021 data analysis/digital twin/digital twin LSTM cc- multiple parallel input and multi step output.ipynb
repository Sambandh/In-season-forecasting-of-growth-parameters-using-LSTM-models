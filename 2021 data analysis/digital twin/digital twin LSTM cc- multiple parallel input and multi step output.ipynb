{
 "cells": [
  {
   "cell_type": "code",
   "execution_count": 24,
   "id": "87771a09",
   "metadata": {},
   "outputs": [],
   "source": [
    "import numpy as np\n",
    "import matplotlib.pyplot as plt\n",
    "import pandas as pd"
   ]
  },
  {
   "cell_type": "code",
   "execution_count": 45,
   "id": "0e0bf9a5",
   "metadata": {},
   "outputs": [
    {
     "data": {
      "text/html": [
       "<div>\n",
       "<style scoped>\n",
       "    .dataframe tbody tr th:only-of-type {\n",
       "        vertical-align: middle;\n",
       "    }\n",
       "\n",
       "    .dataframe tbody tr th {\n",
       "        vertical-align: top;\n",
       "    }\n",
       "\n",
       "    .dataframe thead th {\n",
       "        text-align: right;\n",
       "    }\n",
       "</style>\n",
       "<table border=\"1\" class=\"dataframe\">\n",
       "  <thead>\n",
       "    <tr style=\"text-align: right;\">\n",
       "      <th></th>\n",
       "      <th>day</th>\n",
       "      <th>average_cc_21_0</th>\n",
       "      <th>average_ch_21_0</th>\n",
       "      <th>average_eg_21_0</th>\n",
       "    </tr>\n",
       "  </thead>\n",
       "  <tbody>\n",
       "    <tr>\n",
       "      <th>0</th>\n",
       "      <td>0</td>\n",
       "      <td>0.002520</td>\n",
       "      <td>0.000000</td>\n",
       "      <td>-0.008555</td>\n",
       "    </tr>\n",
       "    <tr>\n",
       "      <th>1</th>\n",
       "      <td>13</td>\n",
       "      <td>0.473314</td>\n",
       "      <td>0.007585</td>\n",
       "      <td>0.005645</td>\n",
       "    </tr>\n",
       "    <tr>\n",
       "      <th>2</th>\n",
       "      <td>25</td>\n",
       "      <td>14.547168</td>\n",
       "      <td>0.031846</td>\n",
       "      <td>0.024015</td>\n",
       "    </tr>\n",
       "    <tr>\n",
       "      <th>3</th>\n",
       "      <td>35</td>\n",
       "      <td>21.776037</td>\n",
       "      <td>0.031630</td>\n",
       "      <td>0.062260</td>\n",
       "    </tr>\n",
       "    <tr>\n",
       "      <th>4</th>\n",
       "      <td>41</td>\n",
       "      <td>29.348252</td>\n",
       "      <td>0.066848</td>\n",
       "      <td>0.112673</td>\n",
       "    </tr>\n",
       "    <tr>\n",
       "      <th>5</th>\n",
       "      <td>49</td>\n",
       "      <td>46.459822</td>\n",
       "      <td>0.172606</td>\n",
       "      <td>0.184020</td>\n",
       "    </tr>\n",
       "    <tr>\n",
       "      <th>6</th>\n",
       "      <td>55</td>\n",
       "      <td>62.859898</td>\n",
       "      <td>0.248127</td>\n",
       "      <td>0.226193</td>\n",
       "    </tr>\n",
       "    <tr>\n",
       "      <th>7</th>\n",
       "      <td>62</td>\n",
       "      <td>76.352083</td>\n",
       "      <td>0.361994</td>\n",
       "      <td>0.304504</td>\n",
       "    </tr>\n",
       "    <tr>\n",
       "      <th>8</th>\n",
       "      <td>69</td>\n",
       "      <td>89.949687</td>\n",
       "      <td>0.452416</td>\n",
       "      <td>0.315696</td>\n",
       "    </tr>\n",
       "    <tr>\n",
       "      <th>9</th>\n",
       "      <td>77</td>\n",
       "      <td>97.915300</td>\n",
       "      <td>0.662580</td>\n",
       "      <td>0.283232</td>\n",
       "    </tr>\n",
       "    <tr>\n",
       "      <th>10</th>\n",
       "      <td>84</td>\n",
       "      <td>98.198073</td>\n",
       "      <td>0.677824</td>\n",
       "      <td>0.286647</td>\n",
       "    </tr>\n",
       "    <tr>\n",
       "      <th>11</th>\n",
       "      <td>91</td>\n",
       "      <td>99.354463</td>\n",
       "      <td>0.704850</td>\n",
       "      <td>0.287615</td>\n",
       "    </tr>\n",
       "    <tr>\n",
       "      <th>12</th>\n",
       "      <td>97</td>\n",
       "      <td>99.480517</td>\n",
       "      <td>0.759954</td>\n",
       "      <td>0.278510</td>\n",
       "    </tr>\n",
       "    <tr>\n",
       "      <th>13</th>\n",
       "      <td>111</td>\n",
       "      <td>99.615371</td>\n",
       "      <td>0.781171</td>\n",
       "      <td>0.261826</td>\n",
       "    </tr>\n",
       "    <tr>\n",
       "      <th>14</th>\n",
       "      <td>116</td>\n",
       "      <td>99.599741</td>\n",
       "      <td>0.789335</td>\n",
       "      <td>0.260186</td>\n",
       "    </tr>\n",
       "  </tbody>\n",
       "</table>\n",
       "</div>"
      ],
      "text/plain": [
       "    day  average_cc_21_0  average_ch_21_0  average_eg_21_0\n",
       "0     0         0.002520         0.000000        -0.008555\n",
       "1    13         0.473314         0.007585         0.005645\n",
       "2    25        14.547168         0.031846         0.024015\n",
       "3    35        21.776037         0.031630         0.062260\n",
       "4    41        29.348252         0.066848         0.112673\n",
       "5    49        46.459822         0.172606         0.184020\n",
       "6    55        62.859898         0.248127         0.226193\n",
       "7    62        76.352083         0.361994         0.304504\n",
       "8    69        89.949687         0.452416         0.315696\n",
       "9    77        97.915300         0.662580         0.283232\n",
       "10   84        98.198073         0.677824         0.286647\n",
       "11   91        99.354463         0.704850         0.287615\n",
       "12   97        99.480517         0.759954         0.278510\n",
       "13  111        99.615371         0.781171         0.261826\n",
       "14  116        99.599741         0.789335         0.260186"
      ]
     },
     "execution_count": 45,
     "metadata": {},
     "output_type": "execute_result"
    }
   ],
   "source": [
    "data1 = pd.read_excel(\"C:/Users/samba/OneDrive/Desktop/TAMU CORPUS/Driscoll/combined_yearly_datasets/2021_0.xlsx\")\n",
    "data1"
   ]
  },
  {
   "cell_type": "code",
   "execution_count": 46,
   "id": "c57b0549",
   "metadata": {},
   "outputs": [
    {
     "name": "stdout",
     "output_type": "stream",
     "text": [
      "[[ 2.52013300e-03  0.00000000e+00 -8.55505600e-03]\n",
      " [ 4.73313898e-01  7.58539000e-03  5.64517400e-03]\n",
      " [ 1.45471678e+01  3.18457080e-02  2.40152370e-02]\n",
      " [ 2.17760368e+01  3.16303710e-02  6.22599040e-02]\n",
      " [ 2.93482519e+01  6.68479670e-02  1.12672784e-01]\n",
      " [ 4.64598223e+01  1.72605752e-01  1.84020140e-01]\n",
      " [ 6.28598980e+01  2.48127261e-01  2.26192788e-01]\n",
      " [ 7.63520827e+01  3.61993876e-01  3.04503516e-01]\n",
      " [ 8.99496872e+01  4.52416127e-01  3.15695890e-01]\n",
      " [ 9.79153002e+01  6.62580354e-01  2.83232061e-01]\n",
      " [ 9.81980727e+01  6.77823872e-01  2.86646867e-01]\n",
      " [ 9.93544632e+01  7.04849784e-01  2.87614739e-01]\n",
      " [ 9.94805171e+01  7.59954378e-01  2.78510041e-01]\n",
      " [ 9.96153710e+01  7.81171304e-01  2.61825936e-01]\n",
      " [ 9.95997411e+01  7.89334823e-01  2.60185792e-01]]\n"
     ]
    }
   ],
   "source": [
    "in_seq1 = data1['average_cc_21_0'].to_numpy()\n",
    "in_seq2 = data1['average_ch_21_0'].to_numpy()\n",
    "out_seq = data1['average_eg_21_0'].to_numpy()\n",
    "in_seq1 = in_seq1.reshape((len(in_seq1), 1))\n",
    "in_seq2 = in_seq2.reshape((len(in_seq2), 1))\n",
    "out_seq = out_seq.reshape((len(out_seq), 1))\n",
    "dataset = np.hstack((in_seq1, in_seq2, out_seq))\n",
    "print(dataset)"
   ]
  },
  {
   "cell_type": "code",
   "execution_count": 47,
   "id": "d8d2fa96",
   "metadata": {},
   "outputs": [],
   "source": [
    "training_set = dataset[0:8]\n",
    "testing_set = dataset[5:8]"
   ]
  },
  {
   "cell_type": "code",
   "execution_count": 48,
   "id": "b0b78e87",
   "metadata": {},
   "outputs": [
    {
     "data": {
      "text/plain": [
       "array([[46.45982227,  0.17260575,  0.18402014],\n",
       "       [62.85989802,  0.24812726,  0.22619279],\n",
       "       [76.35208271,  0.36199388,  0.30450352]])"
      ]
     },
     "execution_count": 48,
     "metadata": {},
     "output_type": "execute_result"
    }
   ],
   "source": [
    "testing_set"
   ]
  },
  {
   "cell_type": "code",
   "execution_count": 49,
   "id": "b44acb66",
   "metadata": {},
   "outputs": [
    {
     "data": {
      "text/plain": [
       "array([[ 2.52013300e-03,  0.00000000e+00, -8.55505600e-03],\n",
       "       [ 4.73313898e-01,  7.58539000e-03,  5.64517400e-03],\n",
       "       [ 1.45471678e+01,  3.18457080e-02,  2.40152370e-02],\n",
       "       [ 2.17760368e+01,  3.16303710e-02,  6.22599040e-02],\n",
       "       [ 2.93482519e+01,  6.68479670e-02,  1.12672784e-01],\n",
       "       [ 4.64598223e+01,  1.72605752e-01,  1.84020140e-01],\n",
       "       [ 6.28598980e+01,  2.48127261e-01,  2.26192788e-01],\n",
       "       [ 7.63520827e+01,  3.61993876e-01,  3.04503516e-01]])"
      ]
     },
     "execution_count": 49,
     "metadata": {},
     "output_type": "execute_result"
    }
   ],
   "source": [
    "training_set"
   ]
  },
  {
   "cell_type": "code",
   "execution_count": 50,
   "id": "bd98b5c0",
   "metadata": {},
   "outputs": [],
   "source": [
    "# choose a number of time steps\n",
    "n_steps_in, n_steps_out = 3, 2\n",
    "# split into samples\n",
    "X,y = list(), list()\n",
    "for i in range(len(training_set)):\n",
    "    #find the end of this pattern\n",
    "    end_ix = i + n_steps_in\n",
    "    out_end_ix = end_ix + n_steps_out\n",
    "    #check if we are beyond the sequence\n",
    "    if out_end_ix > len(training_set):\n",
    "        break\n",
    "    #gather input and output parts of the pattern\n",
    "    seq_x, seq_y = training_set[i:end_ix, :], training_set[end_ix:out_end_ix, :]\n",
    "    X.append(seq_x)\n",
    "    y.append(seq_y)\n",
    "X = np.array(X)\n",
    "y = np.array(y)"
   ]
  },
  {
   "cell_type": "code",
   "execution_count": 51,
   "id": "6c411533",
   "metadata": {},
   "outputs": [
    {
     "data": {
      "text/plain": [
       "array([[[ 2.52013300e-03,  0.00000000e+00, -8.55505600e-03],\n",
       "        [ 4.73313898e-01,  7.58539000e-03,  5.64517400e-03],\n",
       "        [ 1.45471678e+01,  3.18457080e-02,  2.40152370e-02]],\n",
       "\n",
       "       [[ 4.73313898e-01,  7.58539000e-03,  5.64517400e-03],\n",
       "        [ 1.45471678e+01,  3.18457080e-02,  2.40152370e-02],\n",
       "        [ 2.17760368e+01,  3.16303710e-02,  6.22599040e-02]],\n",
       "\n",
       "       [[ 1.45471678e+01,  3.18457080e-02,  2.40152370e-02],\n",
       "        [ 2.17760368e+01,  3.16303710e-02,  6.22599040e-02],\n",
       "        [ 2.93482519e+01,  6.68479670e-02,  1.12672784e-01]],\n",
       "\n",
       "       [[ 2.17760368e+01,  3.16303710e-02,  6.22599040e-02],\n",
       "        [ 2.93482519e+01,  6.68479670e-02,  1.12672784e-01],\n",
       "        [ 4.64598223e+01,  1.72605752e-01,  1.84020140e-01]]])"
      ]
     },
     "execution_count": 51,
     "metadata": {},
     "output_type": "execute_result"
    }
   ],
   "source": [
    "X"
   ]
  },
  {
   "cell_type": "code",
   "execution_count": 52,
   "id": "cc3a4c47",
   "metadata": {},
   "outputs": [
    {
     "name": "stdout",
     "output_type": "stream",
     "text": [
      "(4, 3, 3)\n"
     ]
    }
   ],
   "source": [
    "print(X.shape)"
   ]
  },
  {
   "cell_type": "code",
   "execution_count": 53,
   "id": "d666fa66",
   "metadata": {},
   "outputs": [
    {
     "data": {
      "text/plain": [
       "array([[[2.17760368e+01, 3.16303710e-02, 6.22599040e-02],\n",
       "        [2.93482519e+01, 6.68479670e-02, 1.12672784e-01]],\n",
       "\n",
       "       [[2.93482519e+01, 6.68479670e-02, 1.12672784e-01],\n",
       "        [4.64598223e+01, 1.72605752e-01, 1.84020140e-01]],\n",
       "\n",
       "       [[4.64598223e+01, 1.72605752e-01, 1.84020140e-01],\n",
       "        [6.28598980e+01, 2.48127261e-01, 2.26192788e-01]],\n",
       "\n",
       "       [[6.28598980e+01, 2.48127261e-01, 2.26192788e-01],\n",
       "        [7.63520827e+01, 3.61993876e-01, 3.04503516e-01]]])"
      ]
     },
     "execution_count": 53,
     "metadata": {},
     "output_type": "execute_result"
    }
   ],
   "source": [
    "y"
   ]
  },
  {
   "cell_type": "code",
   "execution_count": 54,
   "id": "e75fae3e",
   "metadata": {},
   "outputs": [],
   "source": [
    "from numpy import array\n",
    "from tensorflow.keras.models import Sequential\n",
    "from tensorflow.keras.layers import LSTM\n",
    "from tensorflow.keras.layers import Dense\n",
    "from tensorflow.keras.layers import Bidirectional\n",
    "from tensorflow.keras.layers import TimeDistributed\n",
    "from tensorflow.keras.layers import Flatten\n",
    "from keras.layers import RepeatVector"
   ]
  },
  {
   "cell_type": "code",
   "execution_count": 55,
   "id": "b0e93183",
   "metadata": {},
   "outputs": [
    {
     "name": "stdout",
     "output_type": "stream",
     "text": [
      "WARNING:tensorflow:Layer lstm_5 will not use cuDNN kernels since it doesn't meet the criteria. It will use a generic GPU kernel as fallback when running on GPU.\n",
      "WARNING:tensorflow:Layer lstm_6 will not use cuDNN kernels since it doesn't meet the criteria. It will use a generic GPU kernel as fallback when running on GPU.\n",
      "[[[ 1.0130218e+02 -7.8330445e-01  3.0549711e-02]\n",
      "  [ 1.2430914e+02  1.4982021e+00  1.2341392e+00]]]\n"
     ]
    }
   ],
   "source": [
    "n_features = X.shape[2]\n",
    "# define model\n",
    "model = Sequential()\n",
    "model.add(LSTM(200, activation='relu', input_shape=(n_steps_in, n_features)))\n",
    "model.add(RepeatVector(n_steps_out))\n",
    "model.add(LSTM(200, activation='relu', return_sequences=True))\n",
    "model.add(TimeDistributed(Dense(n_features)))\n",
    "model.compile(optimizer='adam', loss='mse')\n",
    "# fit model\n",
    "model.fit(X, y, epochs=100, verbose=0)\n",
    "# demonstrate prediction\n",
    "x_input = testing_set\n",
    "x_input = x_input.reshape((1, n_steps_in, n_features))\n",
    "yhat = model.predict(x_input, verbose=0)\n",
    "print(yhat)"
   ]
  },
  {
   "cell_type": "code",
   "execution_count": null,
   "id": "2ef32c6a",
   "metadata": {},
   "outputs": [],
   "source": []
  }
 ],
 "metadata": {
  "kernelspec": {
   "display_name": "Python 3 (ipykernel)",
   "language": "python",
   "name": "python3"
  },
  "language_info": {
   "codemirror_mode": {
    "name": "ipython",
    "version": 3
   },
   "file_extension": ".py",
   "mimetype": "text/x-python",
   "name": "python",
   "nbconvert_exporter": "python",
   "pygments_lexer": "ipython3",
   "version": "3.9.12"
  }
 },
 "nbformat": 4,
 "nbformat_minor": 5
}
