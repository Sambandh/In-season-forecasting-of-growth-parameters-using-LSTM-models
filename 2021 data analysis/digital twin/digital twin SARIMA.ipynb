{
 "cells": [
  {
   "cell_type": "code",
   "execution_count": 2,
   "id": "87771a09",
   "metadata": {},
   "outputs": [],
   "source": [
    "import numpy as np\n",
    "import matplotlib.pyplot as plt\n",
    "import pandas as pd"
   ]
  },
  {
   "cell_type": "code",
   "execution_count": 3,
   "id": "0e0bf9a5",
   "metadata": {},
   "outputs": [
    {
     "data": {
      "text/html": [
       "<div>\n",
       "<style scoped>\n",
       "    .dataframe tbody tr th:only-of-type {\n",
       "        vertical-align: middle;\n",
       "    }\n",
       "\n",
       "    .dataframe tbody tr th {\n",
       "        vertical-align: top;\n",
       "    }\n",
       "\n",
       "    .dataframe thead th {\n",
       "        text-align: right;\n",
       "    }\n",
       "</style>\n",
       "<table border=\"1\" class=\"dataframe\">\n",
       "  <thead>\n",
       "    <tr style=\"text-align: right;\">\n",
       "      <th></th>\n",
       "      <th>day</th>\n",
       "      <th>average_cc_19_0</th>\n",
       "      <th>average_cc_20_0</th>\n",
       "      <th>average_cc_21_0</th>\n",
       "    </tr>\n",
       "  </thead>\n",
       "  <tbody>\n",
       "    <tr>\n",
       "      <th>0</th>\n",
       "      <td>0</td>\n",
       "      <td>0.000200</td>\n",
       "      <td>0.000748</td>\n",
       "      <td>0.002520</td>\n",
       "    </tr>\n",
       "    <tr>\n",
       "      <th>1</th>\n",
       "      <td>13</td>\n",
       "      <td>0.007000</td>\n",
       "      <td>0.135708</td>\n",
       "      <td>0.473314</td>\n",
       "    </tr>\n",
       "    <tr>\n",
       "      <th>2</th>\n",
       "      <td>25</td>\n",
       "      <td>0.318998</td>\n",
       "      <td>4.658331</td>\n",
       "      <td>14.547168</td>\n",
       "    </tr>\n",
       "    <tr>\n",
       "      <th>3</th>\n",
       "      <td>35</td>\n",
       "      <td>12.320046</td>\n",
       "      <td>19.580000</td>\n",
       "      <td>21.776037</td>\n",
       "    </tr>\n",
       "    <tr>\n",
       "      <th>4</th>\n",
       "      <td>41</td>\n",
       "      <td>30.107956</td>\n",
       "      <td>23.749794</td>\n",
       "      <td>29.348252</td>\n",
       "    </tr>\n",
       "    <tr>\n",
       "      <th>5</th>\n",
       "      <td>49</td>\n",
       "      <td>43.503645</td>\n",
       "      <td>35.934409</td>\n",
       "      <td>46.459822</td>\n",
       "    </tr>\n",
       "    <tr>\n",
       "      <th>6</th>\n",
       "      <td>55</td>\n",
       "      <td>51.541058</td>\n",
       "      <td>42.831603</td>\n",
       "      <td>62.859898</td>\n",
       "    </tr>\n",
       "    <tr>\n",
       "      <th>7</th>\n",
       "      <td>62</td>\n",
       "      <td>64.439337</td>\n",
       "      <td>49.560600</td>\n",
       "      <td>76.352083</td>\n",
       "    </tr>\n",
       "    <tr>\n",
       "      <th>8</th>\n",
       "      <td>69</td>\n",
       "      <td>72.712199</td>\n",
       "      <td>56.289597</td>\n",
       "      <td>89.949687</td>\n",
       "    </tr>\n",
       "    <tr>\n",
       "      <th>9</th>\n",
       "      <td>77</td>\n",
       "      <td>82.363871</td>\n",
       "      <td>63.979879</td>\n",
       "      <td>97.915300</td>\n",
       "    </tr>\n",
       "    <tr>\n",
       "      <th>10</th>\n",
       "      <td>84</td>\n",
       "      <td>92.015543</td>\n",
       "      <td>80.298027</td>\n",
       "      <td>98.198073</td>\n",
       "    </tr>\n",
       "    <tr>\n",
       "      <th>11</th>\n",
       "      <td>91</td>\n",
       "      <td>96.820000</td>\n",
       "      <td>88.240090</td>\n",
       "      <td>99.354463</td>\n",
       "    </tr>\n",
       "    <tr>\n",
       "      <th>12</th>\n",
       "      <td>97</td>\n",
       "      <td>96.779071</td>\n",
       "      <td>95.523963</td>\n",
       "      <td>99.480517</td>\n",
       "    </tr>\n",
       "    <tr>\n",
       "      <th>13</th>\n",
       "      <td>111</td>\n",
       "      <td>96.364815</td>\n",
       "      <td>94.117196</td>\n",
       "      <td>99.615371</td>\n",
       "    </tr>\n",
       "    <tr>\n",
       "      <th>14</th>\n",
       "      <td>116</td>\n",
       "      <td>94.650000</td>\n",
       "      <td>97.372411</td>\n",
       "      <td>99.599741</td>\n",
       "    </tr>\n",
       "  </tbody>\n",
       "</table>\n",
       "</div>"
      ],
      "text/plain": [
       "    day  average_cc_19_0  average_cc_20_0  average_cc_21_0\n",
       "0     0         0.000200         0.000748         0.002520\n",
       "1    13         0.007000         0.135708         0.473314\n",
       "2    25         0.318998         4.658331        14.547168\n",
       "3    35        12.320046        19.580000        21.776037\n",
       "4    41        30.107956        23.749794        29.348252\n",
       "5    49        43.503645        35.934409        46.459822\n",
       "6    55        51.541058        42.831603        62.859898\n",
       "7    62        64.439337        49.560600        76.352083\n",
       "8    69        72.712199        56.289597        89.949687\n",
       "9    77        82.363871        63.979879        97.915300\n",
       "10   84        92.015543        80.298027        98.198073\n",
       "11   91        96.820000        88.240090        99.354463\n",
       "12   97        96.779071        95.523963        99.480517\n",
       "13  111        96.364815        94.117196        99.615371\n",
       "14  116        94.650000        97.372411        99.599741"
      ]
     },
     "execution_count": 3,
     "metadata": {},
     "output_type": "execute_result"
    }
   ],
   "source": [
    "data1 = pd.read_excel(\"C:/Users/samba/OneDrive/Desktop/TAMU CORPUS/Driscoll/combined_datasets/average_cc_0.xlsx\")\n",
    "data1"
   ]
  },
  {
   "cell_type": "code",
   "execution_count": 4,
   "id": "3ec7facf",
   "metadata": {},
   "outputs": [],
   "source": [
    "data2 = data1['average_cc_19_0']"
   ]
  },
  {
   "cell_type": "code",
   "execution_count": 5,
   "id": "09f4b69c",
   "metadata": {},
   "outputs": [
    {
     "data": {
      "text/plain": [
       "0      0.000200\n",
       "1      0.007000\n",
       "2      0.318998\n",
       "3     12.320046\n",
       "4     30.107956\n",
       "5     43.503645\n",
       "6     51.541058\n",
       "7     64.439337\n",
       "8     72.712199\n",
       "9     82.363871\n",
       "10    92.015543\n",
       "11    96.820000\n",
       "12    96.779071\n",
       "13    96.364815\n",
       "14    94.650000\n",
       "Name: average_cc_19_0, dtype: float64"
      ]
     },
     "execution_count": 5,
     "metadata": {},
     "output_type": "execute_result"
    }
   ],
   "source": [
    "data2"
   ]
  },
  {
   "cell_type": "code",
   "execution_count": 6,
   "id": "998a0b28",
   "metadata": {},
   "outputs": [],
   "source": [
    "from keras.models import Sequential\n",
    "from keras.layers import LSTM\n",
    "from keras.layers import Dropout\n",
    "from keras.layers import Dense\n",
    "\n",
    "import os\n",
    "#os.environ['TF_CPP_MIN_LOG_LEVEL']"
   ]
  },
  {
   "cell_type": "code",
   "execution_count": 7,
   "id": "237aca41-312a-4a97-88c5-f2eb4ec9ccc9",
   "metadata": {},
   "outputs": [],
   "source": [
    "from math import sqrt\n",
    "from multiprocessing import cpu_count\n",
    "from warnings import catch_warnings, filterwarnings\n",
    "\n",
    "import numpy as np\n",
    "from joblib import Parallel, delayed\n",
    "from statsmodels.tsa.holtwinters import ExponentialSmoothing\n",
    "from statsmodels.tsa.statespace.sarimax import SARIMAX\n",
    "from sklearn.metrics import mean_squared_error"
   ]
  },
  {
   "cell_type": "code",
   "execution_count": 8,
   "id": "9b880b0a-30c5-4703-a269-cfc9aab2ad82",
   "metadata": {},
   "outputs": [],
   "source": [
    "def sarima_forecast(history, config):\n",
    "    order, sorder, trend = config\n",
    "\n",
    "    history = np.array(history)\n",
    "    model = SARIMAX(\n",
    "        history,\n",
    "        seasonal_order=sorder,\n",
    "        order=order,\n",
    "        trend=trend,\n",
    "        enforce_stationarity=False,\n",
    "        enforce_invertibility=False\n",
    "    ).fit(disp=False)\n",
    "# forecast\n",
    "    yhat = model.predict(len(history), len(history))\n",
    "    return yhat[0]"
   ]
  },
  {
   "cell_type": "code",
   "execution_count": 9,
   "id": "4108d2af-c961-462f-b285-9daf11f5504f",
   "metadata": {},
   "outputs": [],
   "source": [
    "# train, test split\n",
    "n_test = 4\n",
    "def train_test_split(data, n_test):\n",
    "    return data[:-n_test], data[-n_test:]\n",
    "\n",
    "\n",
    "# RMSE\n",
    "def measure_rmse(actual, predicted):\n",
    "    return sqrt(mean_squared_error(actual, predicted))"
   ]
  },
  {
   "cell_type": "code",
   "execution_count": 10,
   "id": "0b538a5f-37d3-43f9-b371-f7055a561da6",
   "metadata": {},
   "outputs": [],
   "source": [
    "# Exponential Smoothing parameter configuration\n",
    "def sarima_configs(seasonal=[0]):\n",
    "    models = list()\n",
    "    # configuratin permuations\n",
    "    p_params = [0, 1, 2]\n",
    "    d_params = [0, 1]\n",
    "    q_params = [0, 1, 2]\n",
    "    t_params = ['n', 'c', 't', 'ct']\n",
    "    P_params = [0, 1, 2]\n",
    "    D_params = [0, 1]\n",
    "    Q_params = [0, 1, 2]\n",
    "    m_params = seasonal\n",
    "    # create configuration permutation\n",
    "    for p in p_params:\n",
    "        for d in d_params:\n",
    "            for q in q_params:\n",
    "                for t in t_params:\n",
    "                    for P in P_params:\n",
    "                        for D in D_params:\n",
    "                            for Q in Q_params:\n",
    "                                for m in m_params:\n",
    "                                    cfg = [(p,d,q), (P,D,Q,m), t]\n",
    "                                    models.append(cfg)\n",
    "    return models"
   ]
  },
  {
   "cell_type": "code",
   "execution_count": 11,
   "id": "c7679e3d-d9c8-436e-b103-10831f8cb7ad",
   "metadata": {},
   "outputs": [
    {
     "name": "stdout",
     "output_type": "stream",
     "text": [
      "[(0, 0, 0), (0, 0, 0, 0), 'n']\n"
     ]
    }
   ],
   "source": [
    "cfg_list = sarima_configs(seasonal=[0,15])\n",
    "print(cfg_list[0])"
   ]
  },
  {
   "cell_type": "code",
   "execution_count": 12,
   "id": "e5bcfd3f-58de-483f-a676-424130fee97b",
   "metadata": {},
   "outputs": [],
   "source": [
    "# test\n",
    "res = sarima_forecast(data2, cfg_list[0])\n",
    "data = data2.values"
   ]
  },
  {
   "cell_type": "code",
   "execution_count": 13,
   "id": "286348b4-1b56-415a-a8cc-7bcd67ff92b2",
   "metadata": {},
   "outputs": [],
   "source": [
    "def walk_forward_validation(data, n_test, cfg):\n",
    "    predictions = list()\n",
    "    train, test = train_test_split(data, n_test)\n",
    "    history = [x for x in train]\n",
    "    for i in range(len(test)):\n",
    "        yhat = sarima_forecast(history, cfg)\n",
    "        predictions.append(yhat)\n",
    "        history.append(test[i])\n",
    "    error = measure_rmse(test, predictions)\n",
    "    return error"
   ]
  },
  {
   "cell_type": "code",
   "execution_count": 14,
   "id": "30e542c8-459f-4474-92d9-11b0022e0058",
   "metadata": {},
   "outputs": [
    {
     "name": "stdout",
     "output_type": "stream",
     "text": [
      "94.65\n"
     ]
    }
   ],
   "source": [
    "error = walk_forward_validation(data, 1, cfg_list[0])\n",
    "print(error)"
   ]
  },
  {
   "cell_type": "code",
   "execution_count": 15,
   "id": "c19c2dd6-4632-4a4f-9e35-1be9f5a02769",
   "metadata": {},
   "outputs": [],
   "source": [
    "def score_model(data, n_test, cfg, debug=False):\n",
    "    result = None\n",
    "    key = str(cfg)\n",
    "    \n",
    "    if debug:\n",
    "        result = walk_forward_validation(data, n_test, cfg)\n",
    "    else:\n",
    "        try:\n",
    "            with catch_warnings():\n",
    "                filterwarnings('ignore')\n",
    "                result = walk_forward_validation(data, n_test, cfg)\n",
    "        except:\n",
    "            error = None\n",
    "    if result is not None:\n",
    "        print('>Model[%s] %.3f' % (key, result))\n",
    "    return (key, result)"
   ]
  },
  {
   "cell_type": "code",
   "execution_count": 16,
   "id": "8708fc75-409a-4677-803c-d6b401079911",
   "metadata": {},
   "outputs": [
    {
     "name": "stdout",
     "output_type": "stream",
     "text": [
      ">Model[[(0, 0, 0), (0, 0, 0, 15), 'n']] 94.650\n"
     ]
    }
   ],
   "source": [
    "res = score_model(data, 1, cfg_list[1])"
   ]
  },
  {
   "cell_type": "code",
   "execution_count": 17,
   "id": "b804a371-427b-47fb-bc0f-64a73d9b4374",
   "metadata": {},
   "outputs": [],
   "source": [
    "def grid_search(data, cfg_list, n_test, parallel=True):\n",
    "    scores = None\n",
    "    if parallel:\n",
    "        executor = Parallel(n_jobs=cpu_count(), backend='multiprocessing')\n",
    "        tasks = (delayed(score_model)(data, n_test, cfg) for cfg in cfg_list)\n",
    "        scores = executor(tasks)\n",
    "    else:\n",
    "        scores = [score_model(data, n_test, cfg) for cfg in cfg_list]\n",
    "    scores = [r for r in scores if [1] != None]\n",
    "    scores.sort(key=lambda tup:tup[1])\n",
    "    return scores"
   ]
  },
  {
   "cell_type": "code",
   "execution_count": null,
   "id": "906e307f-035a-48bd-a3f9-f502bf96b209",
   "metadata": {},
   "outputs": [],
   "source": [
    "scores = grid_search(data, cfg_list[1], n_test)"
   ]
  },
  {
   "cell_type": "code",
   "execution_count": null,
   "id": "8ce9adbd-c403-4ec6-83cf-6ee9c88b0215",
   "metadata": {},
   "outputs": [],
   "source": [
    "from pprint import pprint\n",
    "pprint(scores)"
   ]
  },
  {
   "cell_type": "code",
   "execution_count": null,
   "id": "32b1a10b",
   "metadata": {},
   "outputs": [],
   "source": []
  }
 ],
 "metadata": {
  "kernelspec": {
   "display_name": "Python 3 (ipykernel)",
   "language": "python",
   "name": "python3"
  },
  "language_info": {
   "codemirror_mode": {
    "name": "ipython",
    "version": 3
   },
   "file_extension": ".py",
   "mimetype": "text/x-python",
   "name": "python",
   "nbconvert_exporter": "python",
   "pygments_lexer": "ipython3",
   "version": "3.9.12"
  }
 },
 "nbformat": 4,
 "nbformat_minor": 5
}
